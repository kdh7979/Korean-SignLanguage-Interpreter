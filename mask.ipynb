{
  "nbformat": 4,
  "nbformat_minor": 0,
  "metadata": {
    "colab": {
      "name": "mask.ipynb",
      "provenance": [],
      "collapsed_sections": [],
      "include_colab_link": true
    },
    "kernelspec": {
      "name": "python3",
      "display_name": "Python 3"
    },
    "language_info": {
      "name": "python"
    }
  },
  "cells": [
    {
      "cell_type": "markdown",
      "metadata": {
        "id": "view-in-github",
        "colab_type": "text"
      },
      "source": [
        "<a href=\"https://colab.research.google.com/github/kdh7979/Korean-SignLanguage-Interpreter/blob/main/mask.ipynb\" target=\"_parent\"><img src=\"https://colab.research.google.com/assets/colab-badge.svg\" alt=\"Open In Colab\"/></a>"
      ]
    },
    {
      "cell_type": "code",
      "metadata": {
        "id": "_mM4R9ackWdX",
        "colab": {
          "base_uri": "https://localhost:8080/"
        },
        "outputId": "1ea5c8f4-d08a-4bd7-bb2e-9919201a4be0"
      },
      "source": [
        "!pip install mediapipe"
      ],
      "execution_count": null,
      "outputs": [
        {
          "output_type": "stream",
          "text": [
            "Collecting mediapipe\n",
            "\u001b[?25l  Downloading https://files.pythonhosted.org/packages/51/a9/423f5c7ac68ba94821656af72151887c7a22f7ef66ff6ec5edd8c577dbda/mediapipe-0.8.4.2-cp37-cp37m-manylinux_2_17_x86_64.manylinux2014_x86_64.whl (36.1MB)\n",
            "\u001b[K     |████████████████████████████████| 36.1MB 109kB/s \n",
            "\u001b[?25hRequirement already satisfied: numpy in /usr/local/lib/python3.7/dist-packages (from mediapipe) (1.19.5)\n",
            "Requirement already satisfied: wheel in /usr/local/lib/python3.7/dist-packages (from mediapipe) (0.36.2)\n",
            "Requirement already satisfied: six in /usr/local/lib/python3.7/dist-packages (from mediapipe) (1.15.0)\n",
            "Requirement already satisfied: attrs>=19.1.0 in /usr/local/lib/python3.7/dist-packages (from mediapipe) (21.2.0)\n",
            "Requirement already satisfied: opencv-contrib-python in /usr/local/lib/python3.7/dist-packages (from mediapipe) (4.1.2.30)\n",
            "Requirement already satisfied: absl-py in /usr/local/lib/python3.7/dist-packages (from mediapipe) (0.12.0)\n",
            "Requirement already satisfied: protobuf>=3.11.4 in /usr/local/lib/python3.7/dist-packages (from mediapipe) (3.12.4)\n",
            "Requirement already satisfied: setuptools in /usr/local/lib/python3.7/dist-packages (from protobuf>=3.11.4->mediapipe) (56.1.0)\n",
            "Installing collected packages: mediapipe\n",
            "Successfully installed mediapipe-0.8.4.2\n"
          ],
          "name": "stdout"
        }
      ]
    },
    {
      "cell_type": "code",
      "metadata": {
        "id": "Tod84grzpdVo"
      },
      "source": [
        "import cv2\n",
        "import mediapipe as mp\n",
        "from google.colab.patches import cv2_imshow\n",
        "mp_drawing = mp.solutions.drawing_utils\n",
        "mp_face_mesh = mp.solutions.face_mesh"
      ],
      "execution_count": null,
      "outputs": []
    },
    {
      "cell_type": "code",
      "metadata": {
        "id": "F3k-XgUep3nF"
      },
      "source": [
        "img_fg = cv2.imread(r\"/content/Korean-SignLanguage-Interpreter/pictures/n_mask.png\")   #마스크    (1411, 1920, 3)\n",
        "img_fg = img_fg[250:1400, 0:1920]\n",
        "img2gray = cv2.cvtColor(img_fg, cv2.COLOR_BGR2GRAY)\n",
        "ret, mask = cv2.threshold(img2gray, 10, 255, cv2.THRESH_BINARY)\n",
        "mask_inv = cv2.bitwise_not(mask)"
      ],
      "execution_count": null,
      "outputs": []
    },
    {
      "cell_type": "code",
      "metadata": {
        "colab": {
          "base_uri": "https://localhost:8080/",
          "height": 1000
        },
        "id": "0fp46fGMbtMa",
        "outputId": "ed660b3e-df15-4284-ba6f-94c4528ceb6d"
      },
      "source": [
        "cv2_imshow(mask_inv)"
      ],
      "execution_count": null,
      "outputs": [
        {
          "output_type": "display_data",
          "data": {
            "image/png": "[encoded data removed]",
            "text/plain": [
              "<PIL.Image.Image image mode=L size=1920x1150 at 0x7F9B50383810>"
            ]
          },
          "metadata": {
            "tags": []
          }
        }
      ]
    },
    {
      "cell_type": "code",
      "metadata": {
        "id": "KUw2xi8Ecgqm"
      },
      "source": [
        "# For webcam input:\n",
        "drawing_spec = mp_drawing.DrawingSpec(thickness=1, circle_radius=1)\n",
        "for i in range(1, 2):\n",
        "    cap = cv2.VideoCapture(r\"/content/Korean-SignLanguage-Interpreter/pictures/KETI_SL_0000000001.avi\")\n",
        "    with mp_face_mesh.FaceMesh(min_detection_confidence=0.5,min_tracking_confidence=0.5) as face_mesh:\n",
        "        while cap.isOpened():\n",
        "            success, image = cap.read()\n",
        "            if not success:\n",
        "                print(\"Ignoring empty camera frame.\")\n",
        "                # If loading a video, use 'break' instead of 'continue'.\n",
        "                cv2.destroyAllWindows()\n",
        "                break\n",
        "            # the BGR image to RGB.\n",
        "            image = cv2.cvtColor(cv2.flip(image, 1), cv2.COLOR_BGR2RGB)\n",
        "            # To improve performance, optionally mark the image as not writeable to\n",
        "            # pass by reference.\n",
        "            image.flags.writeable = False\n",
        "            results = face_mesh.process(image)\n",
        "            # Draw the face mesh annotations on the image.\n",
        "            image.flags.writeable = True\n",
        "            image = cv2.cvtColor(image, cv2.COLOR_RGB2BGR)\n",
        "            if results.multi_face_landmarks:\n",
        "                for face_landmarks in results.multi_face_landmarks:\n",
        "                    mp_drawing.draw_landmarks(\n",
        "                        image=image,\n",
        "                        landmark_list=face_landmarks,\n",
        "                        connections=mp_face_mesh.FACE_CONNECTIONS,\n",
        "                        landmark_drawing_spec=drawing_spec,\n",
        "                        connection_drawing_spec=drawing_spec)\n",
        "                    #4개 랜드마크의 픽셀 좌표 지정\n",
        "                    top = int(results.multi_face_landmarks[0].landmark[10].y*720)\n",
        "                    bottom = int(results.multi_face_landmarks[0].landmark[152].y*720)\n",
        "                    left = int(results.multi_face_landmarks[0].landmark[234].x*1280) - 30\n",
        "                    right = int(results.multi_face_landmarks[0].landmark[454].x*1280) + 30\n",
        "\n",
        "                    #마스크 이미지의 크기 정하기\n",
        "                    h_fg = int((bottom - top)/2)+20\n",
        "                    w_fg = right - left\n",
        "                    #레이어 마스크 크기 조정\n",
        "                    mask = cv2.resize(mask, (w_fg, h_fg))\n",
        "                    mask_inv = cv2.resize(mask_inv, (w_fg, h_fg))\n",
        "                    #마스크 크기 조정\n",
        "                    img_fg = cv2.resize(img_fg, (w_fg, h_fg))\n",
        "                    #ROI 추출\n",
        "                    roi = image[bottom-h_fg:bottom, left:right]\n",
        "                    #마스크 이미지와 image 합성한 후 roi에 저장\n",
        "                    roi = cv2.bitwise_and(roi, roi, mask = mask_inv)\n",
        "                    img_fg = cv2.bitwise_and(img_fg, img_fg, mask = mask)\n",
        "                    dst = cv2.add(roi, img_fg)\n",
        "                    \n",
        "                    #roi와 image 합치기\n",
        "                    image[bottom-h_fg:bottom, left:right] = dst\n",
        "                    #결과 영상 저장\n",
        "                    #fps = cap.get(cv2.CAP_PROP_FPS)\n",
        "                    #fourcc = cv2.VideoWriter_fourcc(*'DIVH')\n",
        "                    #out = cv2.VideoWriter('output_1.avi', fourcc, 30, (1280, 720))\n",
        "            cv2_imshow(image)\n",
        "            if cv2.waitKey(1) & 0xFF == 27:\n",
        "                cv2.destroyAllWindows()\n",
        "                break\n",
        "        cap.release()"
      ],
      "execution_count": null,
      "outputs": []
    },
    {
      "cell_type": "code",
      "metadata": {
        "colab": {
          "base_uri": "https://localhost:8080/"
        },
        "id": "xf-eLg8Fad9n",
        "outputId": "f1f9d690-1b21-40b7-b77a-c7fedae2569f"
      },
      "source": [
        "!git clone https://github.com/kdh7979/Korean-SignLanguage-Interpreter.git"
      ],
      "execution_count": null,
      "outputs": [
        {
          "output_type": "stream",
          "text": [
            "Cloning into 'Korean-SignLanguage-Interpreter'...\n",
            "remote: Enumerating objects: 58, done.\u001b[K\n",
            "remote: Counting objects: 100% (58/58), done.\u001b[K\n",
            "remote: Compressing objects: 100% (57/57), done.\u001b[K\n",
            "remote: Total 58 (delta 28), reused 0 (delta 0), pack-reused 0\u001b[K\n",
            "Unpacking objects: 100% (58/58), done.\n"
          ],
          "name": "stdout"
        }
      ]
    },
    {
      "cell_type": "code",
      "metadata": {
        "id": "ixdkjxKmae8m"
      },
      "source": [
        ""
      ],
      "execution_count": null,
      "outputs": []
    }
  ]
}